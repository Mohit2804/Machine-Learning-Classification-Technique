{
  "nbformat": 4,
  "nbformat_minor": 0,
  "metadata": {
    "colab": {
      "provenance": []
    },
    "kernelspec": {
      "name": "python3",
      "display_name": "Python 3"
    },
    "widgets": {
      "application/vnd.jupyter.widget-state+json": {
        "d5b4c4bec3d14a1b98d3d226609339f2": {
          "model_module": "@jupyter-widgets/controls",
          "model_name": "HBoxModel",
          "state": {
            "_view_name": "HBoxView",
            "_dom_classes": [],
            "_model_name": "HBoxModel",
            "_view_module": "@jupyter-widgets/controls",
            "_model_module_version": "1.5.0",
            "_view_count": null,
            "_view_module_version": "1.5.0",
            "box_style": "",
            "layout": "IPY_MODEL_8d8802140c4a40248c1469caf99a8bfc",
            "_model_module": "@jupyter-widgets/controls",
            "children": [
              "IPY_MODEL_c2bcbea708664a1497cc76f460b565d9",
              "IPY_MODEL_977e5db6266f4fa186522237059124e4"
            ]
          },
          "model_module_version": "1.5.0"
        },
        "8d8802140c4a40248c1469caf99a8bfc": {
          "model_module": "@jupyter-widgets/base",
          "model_name": "LayoutModel",
          "state": {
            "_view_name": "LayoutView",
            "grid_template_rows": null,
            "right": null,
            "justify_content": null,
            "_view_module": "@jupyter-widgets/base",
            "overflow": null,
            "_model_module_version": "1.2.0",
            "_view_count": null,
            "flex_flow": null,
            "width": null,
            "min_width": null,
            "border": null,
            "align_items": null,
            "bottom": null,
            "_model_module": "@jupyter-widgets/base",
            "top": null,
            "grid_column": null,
            "overflow_y": null,
            "overflow_x": null,
            "grid_auto_flow": null,
            "grid_area": null,
            "grid_template_columns": null,
            "flex": null,
            "_model_name": "LayoutModel",
            "justify_items": null,
            "grid_row": null,
            "max_height": null,
            "align_content": null,
            "visibility": null,
            "align_self": null,
            "height": null,
            "min_height": null,
            "padding": null,
            "grid_auto_rows": null,
            "grid_gap": null,
            "max_width": null,
            "order": null,
            "_view_module_version": "1.2.0",
            "grid_template_areas": null,
            "object_position": null,
            "object_fit": null,
            "grid_auto_columns": null,
            "margin": null,
            "display": null,
            "left": null
          },
          "model_module_version": "1.2.0"
        },
        "c2bcbea708664a1497cc76f460b565d9": {
          "model_module": "@jupyter-widgets/controls",
          "model_name": "FloatProgressModel",
          "state": {
            "_view_name": "ProgressView",
            "style": "IPY_MODEL_69d1b64f78ca4bbabbf9bfffe72b4e85",
            "_dom_classes": [],
            "description": "100%",
            "_model_name": "FloatProgressModel",
            "bar_style": "success",
            "max": 18983,
            "_view_module": "@jupyter-widgets/controls",
            "_model_module_version": "1.5.0",
            "value": 18983,
            "_view_count": null,
            "_view_module_version": "1.5.0",
            "orientation": "horizontal",
            "min": 0,
            "description_tooltip": null,
            "_model_module": "@jupyter-widgets/controls",
            "layout": "IPY_MODEL_26f02f7c65b942648e4936ade2b4e000"
          },
          "model_module_version": "1.5.0"
        },
        "977e5db6266f4fa186522237059124e4": {
          "model_module": "@jupyter-widgets/controls",
          "model_name": "HTMLModel",
          "state": {
            "_view_name": "HTMLView",
            "style": "IPY_MODEL_e7eab47eea3747d7951308e51f73799e",
            "_dom_classes": [],
            "description": "",
            "_model_name": "HTMLModel",
            "placeholder": "​",
            "_view_module": "@jupyter-widgets/controls",
            "_model_module_version": "1.5.0",
            "value": " 18983/18983 [02:58&lt;00:00, 106.18it/s]",
            "_view_count": null,
            "_view_module_version": "1.5.0",
            "description_tooltip": null,
            "_model_module": "@jupyter-widgets/controls",
            "layout": "IPY_MODEL_c40270d4e4cf425e9bd539e98e68d332"
          },
          "model_module_version": "1.5.0"
        },
        "69d1b64f78ca4bbabbf9bfffe72b4e85": {
          "model_module": "@jupyter-widgets/controls",
          "model_name": "ProgressStyleModel",
          "state": {
            "_view_name": "StyleView",
            "_model_name": "ProgressStyleModel",
            "description_width": "initial",
            "_view_module": "@jupyter-widgets/base",
            "_model_module_version": "1.5.0",
            "_view_count": null,
            "_view_module_version": "1.2.0",
            "bar_color": null,
            "_model_module": "@jupyter-widgets/controls"
          },
          "model_module_version": "1.5.0"
        },
        "26f02f7c65b942648e4936ade2b4e000": {
          "model_module": "@jupyter-widgets/base",
          "model_name": "LayoutModel",
          "state": {
            "_view_name": "LayoutView",
            "grid_template_rows": null,
            "right": null,
            "justify_content": null,
            "_view_module": "@jupyter-widgets/base",
            "overflow": null,
            "_model_module_version": "1.2.0",
            "_view_count": null,
            "flex_flow": null,
            "width": null,
            "min_width": null,
            "border": null,
            "align_items": null,
            "bottom": null,
            "_model_module": "@jupyter-widgets/base",
            "top": null,
            "grid_column": null,
            "overflow_y": null,
            "overflow_x": null,
            "grid_auto_flow": null,
            "grid_area": null,
            "grid_template_columns": null,
            "flex": null,
            "_model_name": "LayoutModel",
            "justify_items": null,
            "grid_row": null,
            "max_height": null,
            "align_content": null,
            "visibility": null,
            "align_self": null,
            "height": null,
            "min_height": null,
            "padding": null,
            "grid_auto_rows": null,
            "grid_gap": null,
            "max_width": null,
            "order": null,
            "_view_module_version": "1.2.0",
            "grid_template_areas": null,
            "object_position": null,
            "object_fit": null,
            "grid_auto_columns": null,
            "margin": null,
            "display": null,
            "left": null
          },
          "model_module_version": "1.2.0"
        },
        "e7eab47eea3747d7951308e51f73799e": {
          "model_module": "@jupyter-widgets/controls",
          "model_name": "DescriptionStyleModel",
          "state": {
            "_view_name": "StyleView",
            "_model_name": "DescriptionStyleModel",
            "description_width": "",
            "_view_module": "@jupyter-widgets/base",
            "_model_module_version": "1.5.0",
            "_view_count": null,
            "_view_module_version": "1.2.0",
            "_model_module": "@jupyter-widgets/controls"
          },
          "model_module_version": "1.5.0"
        },
        "c40270d4e4cf425e9bd539e98e68d332": {
          "model_module": "@jupyter-widgets/base",
          "model_name": "LayoutModel",
          "state": {
            "_view_name": "LayoutView",
            "grid_template_rows": null,
            "right": null,
            "justify_content": null,
            "_view_module": "@jupyter-widgets/base",
            "overflow": null,
            "_model_module_version": "1.2.0",
            "_view_count": null,
            "flex_flow": null,
            "width": null,
            "min_width": null,
            "border": null,
            "align_items": null,
            "bottom": null,
            "_model_module": "@jupyter-widgets/base",
            "top": null,
            "grid_column": null,
            "overflow_y": null,
            "overflow_x": null,
            "grid_auto_flow": null,
            "grid_area": null,
            "grid_template_columns": null,
            "flex": null,
            "_model_name": "LayoutModel",
            "justify_items": null,
            "grid_row": null,
            "max_height": null,
            "align_content": null,
            "visibility": null,
            "align_self": null,
            "height": null,
            "min_height": null,
            "padding": null,
            "grid_auto_rows": null,
            "grid_gap": null,
            "max_width": null,
            "order": null,
            "_view_module_version": "1.2.0",
            "grid_template_areas": null,
            "object_position": null,
            "object_fit": null,
            "grid_auto_columns": null,
            "margin": null,
            "display": null,
            "left": null
          },
          "model_module_version": "1.2.0"
        }
      }
    }
  },
  "cells": [
    {
      "cell_type": "code",
      "metadata": {
        "colab": {
          "base_uri": "https://localhost:8080/"
        },
        "id": "NbvXTL05UKw6",
        "outputId": "68de9a2a-caf0-4c07-ef65-e92654058da6"
      },
      "source": [
        "pip install tensorflow"
      ],
      "execution_count": null,
      "outputs": [
        {
          "output_type": "stream",
          "text": [
            "Requirement already satisfied: tensorflow in /usr/local/lib/python3.7/dist-packages (2.4.1)\n",
            "Requirement already satisfied: protobuf>=3.9.2 in /usr/local/lib/python3.7/dist-packages (from tensorflow) (3.12.4)\n",
            "Requirement already satisfied: google-pasta~=0.2 in /usr/local/lib/python3.7/dist-packages (from tensorflow) (0.2.0)\n",
            "Requirement already satisfied: grpcio~=1.32.0 in /usr/local/lib/python3.7/dist-packages (from tensorflow) (1.32.0)\n",
            "Requirement already satisfied: numpy~=1.19.2 in /usr/local/lib/python3.7/dist-packages (from tensorflow) (1.19.5)\n",
            "Requirement already satisfied: typing-extensions~=3.7.4 in /usr/local/lib/python3.7/dist-packages (from tensorflow) (3.7.4.3)\n",
            "Requirement already satisfied: h5py~=2.10.0 in /usr/local/lib/python3.7/dist-packages (from tensorflow) (2.10.0)\n",
            "Requirement already satisfied: gast==0.3.3 in /usr/local/lib/python3.7/dist-packages (from tensorflow) (0.3.3)\n",
            "Requirement already satisfied: six~=1.15.0 in /usr/local/lib/python3.7/dist-packages (from tensorflow) (1.15.0)\n",
            "Requirement already satisfied: wrapt~=1.12.1 in /usr/local/lib/python3.7/dist-packages (from tensorflow) (1.12.1)\n",
            "Requirement already satisfied: termcolor~=1.1.0 in /usr/local/lib/python3.7/dist-packages (from tensorflow) (1.1.0)\n",
            "Requirement already satisfied: wheel~=0.35 in /usr/local/lib/python3.7/dist-packages (from tensorflow) (0.36.2)\n",
            "Requirement already satisfied: tensorflow-estimator<2.5.0,>=2.4.0 in /usr/local/lib/python3.7/dist-packages (from tensorflow) (2.4.0)\n",
            "Requirement already satisfied: flatbuffers~=1.12.0 in /usr/local/lib/python3.7/dist-packages (from tensorflow) (1.12)\n",
            "Requirement already satisfied: tensorboard~=2.4 in /usr/local/lib/python3.7/dist-packages (from tensorflow) (2.4.1)\n",
            "Requirement already satisfied: astunparse~=1.6.3 in /usr/local/lib/python3.7/dist-packages (from tensorflow) (1.6.3)\n",
            "Requirement already satisfied: opt-einsum~=3.3.0 in /usr/local/lib/python3.7/dist-packages (from tensorflow) (3.3.0)\n",
            "Requirement already satisfied: absl-py~=0.10 in /usr/local/lib/python3.7/dist-packages (from tensorflow) (0.10.0)\n",
            "Requirement already satisfied: keras-preprocessing~=1.1.2 in /usr/local/lib/python3.7/dist-packages (from tensorflow) (1.1.2)\n",
            "Requirement already satisfied: setuptools in /usr/local/lib/python3.7/dist-packages (from protobuf>=3.9.2->tensorflow) (54.0.0)\n",
            "Requirement already satisfied: tensorboard-plugin-wit>=1.6.0 in /usr/local/lib/python3.7/dist-packages (from tensorboard~=2.4->tensorflow) (1.8.0)\n",
            "Requirement already satisfied: markdown>=2.6.8 in /usr/local/lib/python3.7/dist-packages (from tensorboard~=2.4->tensorflow) (3.3.4)\n",
            "Requirement already satisfied: requests<3,>=2.21.0 in /usr/local/lib/python3.7/dist-packages (from tensorboard~=2.4->tensorflow) (2.23.0)\n",
            "Requirement already satisfied: google-auth<2,>=1.6.3 in /usr/local/lib/python3.7/dist-packages (from tensorboard~=2.4->tensorflow) (1.27.0)\n",
            "Requirement already satisfied: google-auth-oauthlib<0.5,>=0.4.1 in /usr/local/lib/python3.7/dist-packages (from tensorboard~=2.4->tensorflow) (0.4.2)\n",
            "Requirement already satisfied: werkzeug>=0.11.15 in /usr/local/lib/python3.7/dist-packages (from tensorboard~=2.4->tensorflow) (1.0.1)\n",
            "Requirement already satisfied: importlib-metadata; python_version < \"3.8\" in /usr/local/lib/python3.7/dist-packages (from markdown>=2.6.8->tensorboard~=2.4->tensorflow) (3.7.0)\n",
            "Requirement already satisfied: chardet<4,>=3.0.2 in /usr/local/lib/python3.7/dist-packages (from requests<3,>=2.21.0->tensorboard~=2.4->tensorflow) (3.0.4)\n",
            "Requirement already satisfied: idna<3,>=2.5 in /usr/local/lib/python3.7/dist-packages (from requests<3,>=2.21.0->tensorboard~=2.4->tensorflow) (2.10)\n",
            "Requirement already satisfied: certifi>=2017.4.17 in /usr/local/lib/python3.7/dist-packages (from requests<3,>=2.21.0->tensorboard~=2.4->tensorflow) (2020.12.5)\n",
            "Requirement already satisfied: urllib3!=1.25.0,!=1.25.1,<1.26,>=1.21.1 in /usr/local/lib/python3.7/dist-packages (from requests<3,>=2.21.0->tensorboard~=2.4->tensorflow) (1.24.3)\n",
            "Requirement already satisfied: pyasn1-modules>=0.2.1 in /usr/local/lib/python3.7/dist-packages (from google-auth<2,>=1.6.3->tensorboard~=2.4->tensorflow) (0.2.8)\n",
            "Requirement already satisfied: rsa<5,>=3.1.4; python_version >= \"3.6\" in /usr/local/lib/python3.7/dist-packages (from google-auth<2,>=1.6.3->tensorboard~=2.4->tensorflow) (4.7.2)\n",
            "Requirement already satisfied: cachetools<5.0,>=2.0.0 in /usr/local/lib/python3.7/dist-packages (from google-auth<2,>=1.6.3->tensorboard~=2.4->tensorflow) (4.2.1)\n",
            "Requirement already satisfied: requests-oauthlib>=0.7.0 in /usr/local/lib/python3.7/dist-packages (from google-auth-oauthlib<0.5,>=0.4.1->tensorboard~=2.4->tensorflow) (1.3.0)\n",
            "Requirement already satisfied: zipp>=0.5 in /usr/local/lib/python3.7/dist-packages (from importlib-metadata; python_version < \"3.8\"->markdown>=2.6.8->tensorboard~=2.4->tensorflow) (3.4.0)\n",
            "Requirement already satisfied: pyasn1<0.5.0,>=0.4.6 in /usr/local/lib/python3.7/dist-packages (from pyasn1-modules>=0.2.1->google-auth<2,>=1.6.3->tensorboard~=2.4->tensorflow) (0.4.8)\n",
            "Requirement already satisfied: oauthlib>=3.0.0 in /usr/local/lib/python3.7/dist-packages (from requests-oauthlib>=0.7.0->google-auth-oauthlib<0.5,>=0.4.1->tensorboard~=2.4->tensorflow) (3.1.0)\n"
          ],
          "name": "stdout"
        }
      ]
    },
    {
      "cell_type": "code",
      "metadata": {
        "id": "Czm-4n-654fh"
      },
      "source": [
        "import numpy as np \n",
        "import pandas as pd \n",
        "\n",
        "import os\n",
        "for dirname, _, filenames in os.walk('/kaggle/input'):\n",
        "    for filename in filenames:\n",
        "        print(os.path.join(dirname, filename))\n",
        "\n",
        "import cv2\n",
        "import tqdm\n",
        "import tarfile\n",
        "import matplotlib.pyplot as plt\n",
        "from sklearn.model_selection import train_test_split\n",
        "from keras.layers import Dense, Flatten, Reshape, Input, InputLayer\n",
        "from keras.models import Sequential, Model"
      ],
      "execution_count": null,
      "outputs": []
    },
    {
      "cell_type": "code",
      "metadata": {
        "id": "AIj9MKQh6fwZ"
      },
      "source": [
        "name_of_atris = \"sample_data/lfw_attributes_ae.txt\"\n",
        "\n",
        "name_of_images = \"sample_data/lfw-deepfunneled_ae.tgz\"\n",
        "\n",
        "name_raw_images = \"sample_data/lfw_ae.tgz\""
      ],
      "execution_count": null,
      "outputs": []
    },
    {
      "cell_type": "code",
      "metadata": {
        "id": "sqSaxbVI6ffM"
      },
      "source": [
        "def decode_image_from_raw_bytes(raw_bytes):\n",
        "    images1 = cv2.imdecode(np.asarray(bytearray(raw_bytes), dtype=np.uint8), 1)\n",
        "    images1 = cv2.cvtColor(images1, cv2.COLOR_BGR2RGB)\n",
        "    return images1"
      ],
      "execution_count": null,
      "outputs": []
    },
    {
      "cell_type": "code",
      "metadata": {
        "id": "EUn6hJ5u6fc2"
      },
      "source": [
        "def load_lfw_dataset(\n",
        "        use_raw=False,\n",
        "        dx=80, dy=80,\n",
        "        dimx=45, dimy=45):\n",
        "\n",
        "    # Reading attris\n",
        "    df_attris = pd.read_csv(name_of_atris, sep='\\t', skiprows=1)\n",
        "    df_attris = pd.DataFrame(df_attris.iloc[:, :-1].values, columns=df_attris.columns[1:])\n",
        "    images_with_attris = set(map(tuple, df_attris[[\"person\", \"imagenum\"]].values))\n",
        "\n",
        "    # Reading photos\n",
        "    all_photos1 = []\n",
        "    photo_ids1 = []\n",
        "\n",
        "    with tarfile.open(name_raw_images if use_raw else name_of_images) as f:\n",
        "        for m in tqdm.tqdm_notebook(f.getmembers()):\n",
        "            if m.isfile() and m.name.endswith(\".jpg\"):\n",
        "                # Preparing image\n",
        "                images1 = decode_image_from_raw_bytes(f.extractfile(m).read())\n",
        "\n",
        "                # only croping faces and resizing it\n",
        "                images1 = images1[dy:-dy, dx:-dx]\n",
        "                images1 = cv2.resize(images1, (dimx, dimy))\n",
        "\n",
        "                # Parsing person \n",
        "                fname1 = os.path.split(m.name)[-1]\n",
        "                fname1_splitted = fname1[:-4].replace('_', ' ').split()\n",
        "                person_ids1 = ' '.join(fname1_splitted[:-1])\n",
        "                photo_number1 = int(fname1_splitted[-1])\n",
        "                if (person_ids1, photo_number1) in images_with_attris:\n",
        "                    all_photos1.append(images1)\n",
        "                    photo_ids1.append({'person': person_ids1, 'imagenum': photo_number1})\n",
        "\n",
        "    photo_ids1 = pd.DataFrame(photo_ids1)\n",
        "    all_photos1 = np.stack(all_photos1).astype('uint8')\n",
        "\n",
        "    # Preserving photo_ids1 \n",
        "    all_attris = photo_ids1.merge(df_attris, on=('person', 'imagenum')).drop([\"person\", \"imagenum\"], axis=1)\n",
        "\n",
        "    return all_photos1, all_attris"
      ],
      "execution_count": null,
      "outputs": []
    },
    {
      "cell_type": "code",
      "metadata": {
        "colab": {
          "base_uri": "https://localhost:8080/",
          "height": 140,
          "referenced_widgets": [
            "d5b4c4bec3d14a1b98d3d226609339f2",
            "8d8802140c4a40248c1469caf99a8bfc",
            "c2bcbea708664a1497cc76f460b565d9",
            "977e5db6266f4fa186522237059124e4",
            "69d1b64f78ca4bbabbf9bfffe72b4e85",
            "26f02f7c65b942648e4936ade2b4e000",
            "e7eab47eea3747d7951308e51f73799e",
            "c40270d4e4cf425e9bd539e98e68d332"
          ]
        },
        "id": "NLP3j7GU6fZq",
        "outputId": "eedea09a-eb32-49b1-9eb1-988b65c29f3d"
      },
      "source": [
        "X1, attris = load_lfw_dataset(use_raw=True, dimx=32, dimy=32)\n"
      ],
      "execution_count": null,
      "outputs": [
        {
          "output_type": "stream",
          "text": [
            "/usr/local/lib/python3.7/dist-packages/ipykernel_launcher.py:16: TqdmDeprecationWarning: This function will be removed in tqdm==5.0.0\n",
            "Please use `tqdm.notebook.tqdm` instead of `tqdm.tqdm_notebook`\n",
            "  app.launch_new_instance()\n"
          ],
          "name": "stderr"
        },
        {
          "output_type": "display_data",
          "data": {
            "application/vnd.jupyter.widget-view+json": {
              "model_id": "d5b4c4bec3d14a1b98d3d226609339f2",
              "version_minor": 0,
              "version_major": 2
            },
            "text/plain": [
              "HBox(children=(FloatProgress(value=0.0, max=18983.0), HTML(value='')))"
            ]
          },
          "metadata": {
            "tags": []
          }
        },
        {
          "output_type": "stream",
          "text": [
            "\n"
          ],
          "name": "stdout"
        }
      ]
    },
    {
      "cell_type": "code",
      "metadata": {
        "id": "HPNJMAXO6fWf"
      },
      "source": [
        "X1 = X1.astype('float32') / 255.0 - 0.5"
      ],
      "execution_count": null,
      "outputs": []
    },
    {
      "cell_type": "code",
      "metadata": {
        "id": "uMBtcS1GUTbK"
      },
      "source": [
        "import tensorflow as tf"
      ],
      "execution_count": null,
      "outputs": []
    },
    {
      "cell_type": "code",
      "metadata": {
        "id": "GVpjCQJP6fTK"
      },
      "source": [
        "def show_image(x):\n",
        "    plt.figure(figsize=(1,1))\n",
        "    plt.imshow(np.clip(x + 0.5, 0, 1))"
      ],
      "execution_count": null,
      "outputs": []
    },
    {
      "cell_type": "code",
      "metadata": {
        "colab": {
          "base_uri": "https://localhost:8080/",
          "height": 105
        },
        "id": "kQ22Wvy46fGJ",
        "outputId": "24dc582b-29d0-4a35-ce07-824330ae39a9"
      },
      "source": [
        "show_image(X1[8])"
      ],
      "execution_count": null,
      "outputs": [
        {
          "output_type": "display_data",
          "data": {
            "image/png": "[encoded data removed]",
            "text/plain": [
              "<Figure size 72x72 with 1 Axes>"
            ]
          },
          "metadata": {
            "tags": [],
            "needs_background": "light"
          }
        }
      ]
    },
    {
      "cell_type": "code",
      "metadata": {
        "id": "Yn4QFTOTKWtO"
      },
      "source": [
        "X_train1 , X1_test = train_test_split(X1, test_size=0.1, random_state=42)"
      ],
      "execution_count": null,
      "outputs": []
    },
    {
      "cell_type": "code",
      "metadata": {
        "id": "QyIhycfoKWoR"
      },
      "source": [
        "def build_autoencoder(image_shape, code1_size):\n",
        "    # implementing encoder\n",
        "    encoder = Sequential()\n",
        "    encoder.add(InputLayer(image_shape))\n",
        "    encoder.add(Flatten())\n",
        "    encoder.add(Dense(code1_size))\n",
        "\n",
        "    # implementing decoder\n",
        "    decoder = Sequential()\n",
        "    decoder.add(InputLayer((code1_size,)))\n",
        "    decoder.add(Dense(np.prod(image_shape))) \n",
        "    decoder.add(Reshape(image_shape))\n",
        "\n",
        "    return encoder, decoder"
      ],
      "execution_count": null,
      "outputs": []
    },
    {
      "cell_type": "code",
      "metadata": {
        "colab": {
          "base_uri": "https://localhost:8080/"
        },
        "id": "rzfL22OUKklN",
        "outputId": "dab88b4f-c50e-4913-8af9-f3f60eb7280a"
      },
      "source": [
        "IMAGE_SHAPE = X1.shape[1:]\n",
        "encoder, decoder = build_autoencoder(IMAGE_SHAPE, 256)\n",
        "\n",
        "input = Input(IMAGE_SHAPE)\n",
        "code1 = encoder(input)\n",
        "reconstruction = decoder(code1)\n",
        "\n",
        "auto_encoder = Model(input,reconstruction)\n",
        "auto_encoder.compile(optimizer='adam', loss='mse')\n",
        "\n",
        "auto_encoder.summary()"
      ],
      "execution_count": null,
      "outputs": [
        {
          "output_type": "stream",
          "text": [
            "Model: \"model_1\"\n",
            "_________________________________________________________________\n",
            "Layer (type)                 Output Shape              Param #   \n",
            "=================================================================\n",
            "input_6 (InputLayer)         [(None, 32, 32, 3)]       0         \n",
            "_________________________________________________________________\n",
            "sequential_2 (Sequential)    (None, 256)               786688    \n",
            "_________________________________________________________________\n",
            "sequential_3 (Sequential)    (None, 32, 32, 3)         789504    \n",
            "=================================================================\n",
            "Total params: 1,576,192\n",
            "Trainable params: 1,576,192\n",
            "Non-trainable params: 0\n",
            "_________________________________________________________________\n"
          ],
          "name": "stdout"
        }
      ]
    },
    {
      "cell_type": "code",
      "metadata": {
        "colab": {
          "base_uri": "https://localhost:8080/"
        },
        "id": "iukTrtBAKke7",
        "outputId": "abc3a9b9-011c-400e-b494-1273f5487e2f"
      },
      "source": [
        "history = auto_encoder.fit(x=X_train1, y=X_train1, epochs=20,\n",
        "                validation_data=(X1_test, X1_test))"
      ],
      "execution_count": null,
      "outputs": [
        {
          "output_type": "stream",
          "text": [
            "Epoch 1/20\n",
            "370/370 [==============================] - 7s 18ms/step - loss: 0.0138 - val_loss: 0.0041\n",
            "Epoch 2/20\n",
            "370/370 [==============================] - 7s 18ms/step - loss: 0.0036 - val_loss: 0.0029\n",
            "Epoch 3/20\n",
            "370/370 [==============================] - 6s 17ms/step - loss: 0.0027 - val_loss: 0.0025\n",
            "Epoch 4/20\n",
            "370/370 [==============================] - 6s 16ms/step - loss: 0.0023 - val_loss: 0.0023\n",
            "Epoch 5/20\n",
            "370/370 [==============================] - 6s 17ms/step - loss: 0.0021 - val_loss: 0.0021\n",
            "Epoch 6/20\n",
            "370/370 [==============================] - 6s 17ms/step - loss: 0.0020 - val_loss: 0.0020\n",
            "Epoch 7/20\n",
            "370/370 [==============================] - 6s 17ms/step - loss: 0.0019 - val_loss: 0.0020\n",
            "Epoch 8/20\n",
            "370/370 [==============================] - 6s 17ms/step - loss: 0.0018 - val_loss: 0.0019\n",
            "Epoch 9/20\n",
            "370/370 [==============================] - 7s 18ms/step - loss: 0.0019 - val_loss: 0.0018\n",
            "Epoch 10/20\n",
            "370/370 [==============================] - 6s 17ms/step - loss: 0.0018 - val_loss: 0.0020\n",
            "Epoch 11/20\n",
            "370/370 [==============================] - 7s 18ms/step - loss: 0.0019 - val_loss: 0.0018\n",
            "Epoch 12/20\n",
            "370/370 [==============================] - 7s 18ms/step - loss: 0.0018 - val_loss: 0.0019\n",
            "Epoch 13/20\n",
            "370/370 [==============================] - 6s 17ms/step - loss: 0.0020 - val_loss: 0.0019\n",
            "Epoch 14/20\n",
            "370/370 [==============================] - 6s 17ms/step - loss: 0.0018 - val_loss: 0.0018\n",
            "Epoch 15/20\n",
            "370/370 [==============================] - 6s 16ms/step - loss: 0.0019 - val_loss: 0.0018\n",
            "Epoch 16/20\n",
            "370/370 [==============================] - 7s 18ms/step - loss: 0.0019 - val_loss: 0.0018\n",
            "Epoch 17/20\n",
            "370/370 [==============================] - 7s 18ms/step - loss: 0.0018 - val_loss: 0.0020\n",
            "Epoch 18/20\n",
            "370/370 [==============================] - 6s 17ms/step - loss: 0.0019 - val_loss: 0.0019\n",
            "Epoch 19/20\n",
            "370/370 [==============================] - 6s 17ms/step - loss: 0.0018 - val_loss: 0.0019\n",
            "Epoch 20/20\n",
            "370/370 [==============================] - 6s 17ms/step - loss: 0.0018 - val_loss: 0.0020\n"
          ],
          "name": "stdout"
        }
      ]
    },
    {
      "cell_type": "code",
      "metadata": {
        "colab": {
          "base_uri": "https://localhost:8080/",
          "height": 295
        },
        "id": "EtOtHhf4Wejg",
        "outputId": "766ae023-68da-4090-ac04-237b7e0baa42"
      },
      "source": [
        "plt.plot(history.history['loss'])\n",
        "plt.plot(history.history['val_loss'])\n",
        "plt.title('model loss')\n",
        "plt.ylabel('loss')\n",
        "plt.xlabel('epoch')\n",
        "plt.legend(['train', 'test'], loc='upper left')\n",
        "plt.show()"
      ],
      "execution_count": null,
      "outputs": [
        {
          "output_type": "display_data",
          "data": {
            "image/png": "[encoded data removed]",
            "text/plain": [
              "<Figure size 432x288 with 1 Axes>"
            ]
          },
          "metadata": {
            "tags": [],
            "needs_background": "light"
          }
        }
      ]
    }
  ]
}